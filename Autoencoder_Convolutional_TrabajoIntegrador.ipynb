{
  "nbformat": 4,
  "nbformat_minor": 0,
  "metadata": {
    "colab": {
      "name": "Autoencoder-Convolutional-TrabajoIntegrador.ipynb",
      "provenance": [],
      "authorship_tag": "ABX9TyMq88zFoNHuAnRIxoTx53+C",
      "include_colab_link": true
    },
    "kernelspec": {
      "display_name": "Python 3",
      "name": "python3"
    }
  },
  "cells": [
    {
      "cell_type": "markdown",
      "metadata": {
        "id": "view-in-github",
        "colab_type": "text"
      },
      "source": [
        "<a href=\"https://colab.research.google.com/github/simonians/Trabajo-integrador-RedesNeuronales-AutoencoderConvolutional/blob/main/Autoencoder_Convolutional_TrabajoIntegrador.ipynb\" target=\"_parent\"><img src=\"https://colab.research.google.com/assets/colab-badge.svg\" alt=\"Open In Colab\"/></a>"
      ]
    },
    {
      "cell_type": "code",
      "metadata": {
        "id": "bB_ZlNt6uNb_"
      },
      "source": [
        "import numpy as np\n",
        "import matplotlib.pyplot as plt\n",
        "%matplotlib inline\n",
        "\n",
        "import torch\n",
        "from torchvision import datasets\n",
        "import torchvision.transforms as transforms\n",
        "\n",
        "# convert data to torch.FloatTensor\n",
        "transform = transforms.ToTensor()\n",
        "\n",
        "# load the training and test datasets 60k de train y 10 de test\n",
        "train_data = datasets.MNIST(root='data', train=True,download=True, transform=transform)\n",
        "test_data = datasets.MNIST(root='data', train=False,download=True, transform=transform)"
      ],
      "execution_count": null,
      "outputs": []
    },
    {
      "cell_type": "code",
      "metadata": {
        "id": "NUG9pq3VxpXh"
      },
      "source": [
        "# number of subprocesses to use for data loading\n",
        "num_workers = 0\n",
        "# how many samples per batch to load\n",
        "batch_size = 20\n",
        "\n",
        "# prepare data loaders\n",
        "train_loader = torch.utils.data.DataLoader(train_data, batch_size=batch_size, num_workers=num_workers)\n",
        "test_loader = torch.utils.data.DataLoader(test_data, batch_size=batch_size, num_workers=num_workers)"
      ],
      "execution_count": null,
      "outputs": []
    },
    {
      "cell_type": "code",
      "metadata": {
        "id": "lcuIO6tkxr2T"
      },
      "source": [
        "import torch.nn as nn\n",
        "import torch.nn.functional as F\n",
        "\n",
        "# define the NN architecture\n",
        "class DeNoiser(nn.Module):\n",
        "    def __init__(self):\n",
        "        super(DeNoiser, self).__init__()\n",
        "        ## encoder layers ##\n",
        "        # conv layer (depth from 1 --> 32), 3x3 kernels\n",
        "        self.conv1 = nn.Conv2d(1, 32, 3, padding=1)  \n",
        "        # conv layer (depth from 32 --> 16), 3x3 kernels\n",
        "        self.conv2 = nn.Conv2d(32, 16, 3, padding=1)\n",
        "        # conv layer (depth from 16 --> 8), 3x3 kernels\n",
        "        self.conv3 = nn.Conv2d(16, 8, 3, padding=1)\n",
        "        # pooling layer to reduce x-y dims by two; kernel and stride of 2\n",
        "        self.pool = nn.MaxPool2d(2, 2)\n",
        "        \n",
        "        ## decoder layers ##\n",
        "        # transpose layer, a kernel of 2 and a stride of 2 will increase the spatial dims by 2\n",
        "        self.t_conv1 = nn.ConvTranspose2d(8, 8, 3, stride=2)  # kernel_size=3 to get to a 7x7 image output ...porque outputsize(7) = (3-1)*2+3=(inputsize-1) * stride + kernel\n",
        "        # two more transpose layers with a kernel of 2\n",
        "        self.t_conv2 = nn.ConvTranspose2d(8, 16, 2, stride=2)\n",
        "        self.t_conv3 = nn.ConvTranspose2d(16, 32, 2, stride=2)\n",
        "        # one, final, normal conv layer to decrease the depth\n",
        "        self.conv_out = nn.Conv2d(32, 1, 3, padding=1)\n",
        "\n",
        "\n",
        "    def forward(self, x):\n",
        "        ## encode ##\n",
        "        # add hidden layers with relu activation function\n",
        "        # and maxpooling after\n",
        "        x = F.relu(self.conv1(x))\n",
        "        x = self.pool(x)\n",
        "        # add second hidden layer\n",
        "        x = F.relu(self.conv2(x))\n",
        "        x = self.pool(x)\n",
        "        # add third hidden layer\n",
        "        x = F.relu(self.conv3(x))\n",
        "        x = self.pool(x)  # compressed representation, termina con un 3x3x8 tras el pooling al 7x7x8\n",
        "        \n",
        "        ## decode ##\n",
        "        # add transpose conv layers, with relu activation function\n",
        "        x = F.relu(self.t_conv1(x))\n",
        "        x = F.relu(self.t_conv2(x))\n",
        "        x = F.relu(self.t_conv3(x))\n",
        "        # transpose again, output should have a sigmoid applied\n",
        "        x = F.sigmoid(self.conv_out(x))\n",
        "                \n",
        "        return x\n"
      ],
      "execution_count": null,
      "outputs": []
    },
    {
      "cell_type": "code",
      "metadata": {
        "id": "KkRArZvrx-n4"
      },
      "source": [
        "model = DeNoiser()\n",
        "optimizer = torch.optim.Adam(model.parameters(), lr=0.001, betas=(0.9, 0.999), eps=1e-08, weight_decay=0, amsgrad=False)\n"
      ],
      "execution_count": null,
      "outputs": []
    },
    {
      "cell_type": "code",
      "metadata": {
        "colab": {
          "background_save": true,
          "base_uri": "https://localhost:8080/"
        },
        "id": "lf98lQOAycuL",
        "outputId": "1c917b55-67ca-4f4c-be49-cca102c23959"
      },
      "source": [
        "# Loss function\n",
        "Laslosses=[] #Para graficar la evolucion de los errores\n",
        "criterion = nn.MSELoss()\n",
        "\n",
        "# Optimizer\n",
        "optimizer = torch.optim.Adam(model.parameters(), lr=0.001, betas=(0.9, 0.999), eps=1e-08, weight_decay=0, amsgrad=False)\n",
        "\n",
        "\n",
        "# for adding noise to images\n",
        "noise_factor=0.5\n",
        "epochs = 20\n",
        "for e in range(1, epochs+1):\n",
        "    train_loss = 0.0  # monitor training loss\n",
        "    \n",
        "    for data in train_loader:\n",
        "        images, _ = data                        # we are just intrested in images\n",
        "        # no need to flatten images\n",
        "        ## add random noise to the input images\n",
        "        noisy_imgs = images #+ noise_factor * torch.randn(*images.shape) #Se lo sacamos para probar\n",
        "        # Clip the images to be between 0 and 1\n",
        "        noisy_imgs = np.clip(noisy_imgs, 0., 1.)\n",
        "        optimizer.zero_grad()                   # clear the gradients\n",
        "        outputs = model(noisy_imgs)             # forward pass: compute predicted outputs \n",
        "        loss = criterion(outputs, images)       # calculate the loss\n",
        "        loss.backward()                         # backward pass\n",
        "        optimizer.step()                        # perform optimization step\n",
        "        train_loss += loss.item()*images.size(0)# update running training loss\n",
        "    \n",
        "\n",
        "            \n",
        "    # print avg training statistics \n",
        "    train_loss = train_loss/len(train_loader)\n",
        "    print('Epoch: {}'.format(e),\n",
        "          '\\tTraining Loss: {:.4f}'.format(train_loss))\n",
        "    Laslosses.append(train_loss)"
      ],
      "execution_count": null,
      "outputs": [
        {
          "output_type": "stream",
          "text": [
            "/usr/local/lib/python3.6/dist-packages/torch/nn/functional.py:1639: UserWarning: nn.functional.sigmoid is deprecated. Use torch.sigmoid instead.\n",
            "  warnings.warn(\"nn.functional.sigmoid is deprecated. Use torch.sigmoid instead.\")\n"
          ],
          "name": "stderr"
        },
        {
          "output_type": "stream",
          "text": [
            "Epoch: 1 \tTraining Loss: 0.6979\n",
            "Epoch: 2 \tTraining Loss: 0.3923\n",
            "Epoch: 3 \tTraining Loss: 0.3539\n",
            "Epoch: 4 \tTraining Loss: 0.3347\n",
            "Epoch: 5 \tTraining Loss: 0.3218\n",
            "Epoch: 6 \tTraining Loss: 0.3122\n",
            "Epoch: 7 \tTraining Loss: 0.3044\n",
            "Epoch: 8 \tTraining Loss: 0.2981\n",
            "Epoch: 9 \tTraining Loss: 0.2926\n",
            "Epoch: 10 \tTraining Loss: 0.2878\n",
            "Epoch: 11 \tTraining Loss: 0.2835\n",
            "Epoch: 12 \tTraining Loss: 0.2796\n",
            "Epoch: 13 \tTraining Loss: 0.2762\n",
            "Epoch: 14 \tTraining Loss: 0.2731\n",
            "Epoch: 15 \tTraining Loss: 0.2701\n",
            "Epoch: 16 \tTraining Loss: 0.2674\n",
            "Epoch: 17 \tTraining Loss: 0.2649\n",
            "Epoch: 18 \tTraining Loss: 0.2624\n",
            "Epoch: 19 \tTraining Loss: 0.2600\n",
            "Epoch: 20 \tTraining Loss: 0.2579\n"
          ],
          "name": "stdout"
        }
      ]
    },
    {
      "cell_type": "code",
      "metadata": {
        "colab": {
          "base_uri": "https://localhost:8080/",
          "height": 283
        },
        "id": "kU7fT9dfkPAo",
        "outputId": "f0a5d476-56fa-4124-9011-9604864d6432"
      },
      "source": [
        "# Lets get batch of test images\n",
        "dataiter = iter(test_loader)\n",
        "images, labels = dataiter.next()\n",
        "\n",
        "# add noise to the test images, se lo sacamos porque no lo vimos\n",
        "noisy_imgs = images #+ noise_factor * torch.randn(*images.shape)\n",
        "noisy_imgs = np.clip(noisy_imgs, 0., 1.)\n",
        "\n",
        "output = model(noisy_imgs)                 # get sample outputs\n",
        "noisy_imgs = noisy_imgs.numpy()            # prep images for display\n",
        "output = output.view(batch_size, 1, 28, 28)# resizing output\n",
        "output = output.detach().numpy()           # use detach when it's an output that requires_grad\n",
        "\n",
        "# plot the first ten input images and then reconstructed images\n",
        "fig, axes = plt.subplots(nrows=2, ncols=5, sharex=True, sharey=True, figsize=(25,4))\n",
        "# input images on top row, reconstructions on bottom\n",
        "for noisy_imgs, row in zip([noisy_imgs, output], axes):\n",
        "    for img, ax in zip(noisy_imgs, row):\n",
        "        ax.imshow(np.squeeze(img), cmap='gray')\n",
        "        ax.get_xaxis().set_visible(False)\n",
        "        ax.get_yaxis().set_visible(False)\n"
      ],
      "execution_count": null,
      "outputs": [
        {
          "output_type": "stream",
          "text": [
            "/usr/local/lib/python3.6/dist-packages/torch/nn/functional.py:1639: UserWarning: nn.functional.sigmoid is deprecated. Use torch.sigmoid instead.\n",
            "  warnings.warn(\"nn.functional.sigmoid is deprecated. Use torch.sigmoid instead.\")\n"
          ],
          "name": "stderr"
        },
        {
          "output_type": "display_data",
          "data": {
            "image/png": "[encoded data removed]",
            "text/plain": [
              "<Figure size 1800x288 with 10 Axes>"
            ]
          },
          "metadata": {
            "tags": [],
            "needs_background": "light"
          }
        }
      ]
    },
    {
      "cell_type": "code",
      "metadata": {
        "id": "6s_Q0crikSXV"
      },
      "source": [
        "import matplotlib.pyplot as plt"
      ],
      "execution_count": null,
      "outputs": []
    },
    {
      "cell_type": "code",
      "metadata": {
        "colab": {
          "base_uri": "https://localhost:8080/",
          "height": 310
        },
        "id": "mV6DZSxckU1k",
        "outputId": "2f2366e4-da2f-4b55-b5b7-26c664b064d8"
      },
      "source": [
        "plt.plot(Laslosses)\n",
        "plt.title(\"Gráfico 3.1  Evolución del error de entrenamiento\")\n",
        "plt.ylabel('Train Loss')\n",
        "plt.xlabel('Epochs')"
      ],
      "execution_count": null,
      "outputs": [
        {
          "output_type": "execute_result",
          "data": {
            "text/plain": [
              "Text(0.5, 0, 'Epochs')"
            ]
          },
          "metadata": {
            "tags": []
          },
          "execution_count": 16
        },
        {
          "output_type": "display_data",
          "data": {
            "image/png": "[encoded data removed]",
            "text/plain": [
              "<Figure size 432x288 with 1 Axes>"
            ]
          },
          "metadata": {
            "tags": [],
            "needs_background": "light"
          }
        }
      ]
    },
    {
      "cell_type": "code",
      "metadata": {
        "id": "sRAhPiRqkXKX"
      },
      "source": [
        "train_loss_ff=[1.0233129382133483, 0.285541732609272, 0.23957694818576178, 0.22691820661226908, 0.2207131008307139, 0.2168519154191017, 0.2144155556956927, 0.21242308815320332, 0.2109979341427485, 0.2097204275429249, 0.20914018402496973, 0.20831065128246942, 0.20764591718713443, 0.20651225447654725, 0.20592516536513963, 0.20535298436880112, 0.2047993761797746, 0.20425622090697287, 0.20418672064940135, 0.20379667257269224]"
      ],
      "execution_count": null,
      "outputs": []
    },
    {
      "cell_type": "code",
      "metadata": {
        "colab": {
          "base_uri": "https://localhost:8080/",
          "height": 327
        },
        "id": "Kwrinr8E1WSS",
        "outputId": "8aba1d4e-a61c-425e-ddbe-d684df5779a1"
      },
      "source": [
        "fig, ax = plt.subplots()\n",
        "ax.plot(Laslosses,label='Error de entrenamiento con una red \\n auto-encoder convolucional')\n",
        "ax.plot(train_loss_ff,label='Error de entrenamiento con una red \\n auto-encoder feed forward')\n",
        "ax.set_title(\"Error de testeo: Convolucional vs Feed Forward \\n\")\n",
        "ax.set_xlabel('Épocas')  \n",
        "ax.set_ylabel('Error')\n",
        "ax.legend()"
      ],
      "execution_count": null,
      "outputs": [
        {
          "output_type": "execute_result",
          "data": {
            "text/plain": [
              "<matplotlib.legend.Legend at 0x7f4bdfba67b8>"
            ]
          },
          "metadata": {
            "tags": []
          },
          "execution_count": 19
        },
        {
          "output_type": "display_data",
          "data": {
            "image/png": "[encoded data removed]",
            "text/plain": [
              "<Figure size 432x288 with 1 Axes>"
            ]
          },
          "metadata": {
            "tags": [],
            "needs_background": "light"
          }
        }
      ]
    }
  ]
}